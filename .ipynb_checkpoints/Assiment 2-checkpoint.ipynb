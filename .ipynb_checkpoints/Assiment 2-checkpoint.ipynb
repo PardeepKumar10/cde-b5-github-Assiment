{
 "cells": [
  {
   "cell_type": "code",
   "execution_count": null,
   "id": "72a3fc1d-ec53-436c-8803-90a9dd40c645",
   "metadata": {},
   "outputs": [],
   "source": []
  }
 ],
 "metadata": {
  "kernelspec": {
   "display_name": "Python 3 (ipykernel)",
   "language": "python",
   "name": "python3"
  },
  "language_info": {
   "codemirror_mode": {
    "name": "ipython",
    "version": 3
   },
   "file_extension": ".py",
   "mimetype": "text/x-python",
   "name": "python",
   "nbconvert_exporter": "python",
   "pygments_lexer": "ipython3",
   "version": "3.13.5"
  }
 },
 "nbformat": 4,
 "nbformat_minor": 5
}
