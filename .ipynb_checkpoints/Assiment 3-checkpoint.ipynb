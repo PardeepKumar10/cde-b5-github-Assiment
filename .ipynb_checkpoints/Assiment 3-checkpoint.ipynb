{
 "cells": [
  {
   "cell_type": "markdown",
   "id": "535907de-b628-43e9-84ee-968962ce50dd",
   "metadata": {},
   "source": [
    "1. Write a program that accepts a string from user.\n",
    "   Your program should count and display number of vowels in that string."
   ]
  },
  {
   "cell_type": "code",
   "execution_count": 2,
   "id": "33d95982-cfe0-4f98-bc89-2bee6b67fecd",
   "metadata": {},
   "outputs": [
    {
     "name": "stdin",
     "output_type": "stream",
     "text": [
      "Enter a string:  naveed\n"
     ]
    },
    {
     "name": "stdout",
     "output_type": "stream",
     "text": [
      "a\n",
      "e\n",
      "e\n",
      "Number of vowels in the string: 3\n"
     ]
    }
   ],
   "source": [
    "string = input(\"Enter a string: \")\n",
    "count = 0\n",
    "for ch in string:\n",
    "    if ch.lower() in \"aeiou\":\n",
    "        print(ch)\n",
    "        count += 1\n",
    "\n",
    "print(\"Number of vowels in the string:\", count)"
   ]
  },
  {
   "cell_type": "markdown",
   "id": "1f27951f-8850-4722-9747-d88468b92e83",
   "metadata": {},
   "source": [
    "2. Write a program that reads a string from keyboard and display:\n",
    " * The number of uppercase letters in the string\n",
    " * The number of lowercase letters in the string\n",
    " * The number of digits in the string\n",
    " * The number of whitespace characters in the string"
   ]
  },
  {
   "cell_type": "code",
   "execution_count": 3,
   "id": "a187f87b-e6fa-443e-ab51-72abb59f0261",
   "metadata": {},
   "outputs": [
    {
     "name": "stdin",
     "output_type": "stream",
     "text": [
      "Enter a string:  Pardeep\n"
     ]
    },
    {
     "name": "stdout",
     "output_type": "stream",
     "text": [
      "Uppercase letters: 1\n",
      "Lowercase letters: 6\n",
      "Digits: 0\n",
      "Whitespace characters: 0\n"
     ]
    }
   ],
   "source": [
    "text = input(\"Enter a string: \")\n",
    "\n",
    "upper = lower = digit = space = 0\n",
    "\n",
    "for ch in text:\n",
    "    if ch.isupper():\n",
    "        upper += 1\n",
    "    elif ch.islower():\n",
    "        lower += 1\n",
    "    elif ch.isdigit():\n",
    "        digit += 1\n",
    "    elif ch.isspace():\n",
    "        space += 1\n",
    "\n",
    "print(\"Uppercase letters:\", upper)\n",
    "print(\"Lowercase letters:\", lower)\n",
    "print(\"Digits:\", digit)\n",
    "print(\"Whitespace characters:\", space)"
   ]
  },
  {
   "cell_type": "markdown",
   "id": "cf1fd022-330e-4022-8de4-cd952e1e1c9d",
   "metadata": {},
   "source": [
    "3. Write Python program that accepts a string from user.Your program should create and display a new\n",
    "string where the first and last characters have been exchanged."
   ]
  },
  {
   "cell_type": "code",
   "execution_count": 6,
   "id": "7abe5df8-f1e8-468f-aa35-d53ab2612d52",
   "metadata": {},
   "outputs": [
    {
     "name": "stdin",
     "output_type": "stream",
     "text": [
      "Enter a string:  hello\n"
     ]
    },
    {
     "name": "stdout",
     "output_type": "stream",
     "text": [
      "String after exchanging first and last characters: oellh\n"
     ]
    }
   ],
   "source": [
    "s = input(\"Enter a string: \")\n",
    "\n",
    "if len(s) > 1:\n",
    "    new_string = s[-1] + s[1:-1] + s[0]\n",
    "else:\n",
    "    new_string = s\n",
    "\n",
    "print(\"String after exchanging first and last characters:\", new_string)\n"
   ]
  },
  {
   "cell_type": "markdown",
   "id": "63bd14a4-a5bc-4d4e-8234-eb6a9efe30c9",
   "metadata": {},
   "source": [
    "\n",
    "4. Write a python program that accepts a string from user. your program should create a new string in reverse of first string and display it.\n"
   ]
  },
  {
   "cell_type": "code",
   "execution_count": 7,
   "id": "330c51b3-fd5c-47db-a1c4-b0775e1dca93",
   "metadata": {},
   "outputs": [
    {
     "name": "stdin",
     "output_type": "stream",
     "text": [
      "Enter a string:  Hello\n"
     ]
    },
    {
     "name": "stdout",
     "output_type": "stream",
     "text": [
      "Reversed string: olleH\n"
     ]
    }
   ],
   "source": [
    "# Accept string from user\n",
    "s = input(\"Enter a string: \")\n",
    "\n",
    "# Reverse the string using slicing\n",
    "reversed_string = s[::-1]\n",
    "\n",
    "# Display result\n",
    "print(\"Reversed string:\", reversed_string)\n"
   ]
  },
  {
   "cell_type": "markdown",
   "id": "58b49320-2ffd-455f-805c-7a013d941858",
   "metadata": {},
   "source": [
    "5. Write a python program that accepts a string from user. Your program should create a new string by shifting one position to left.\n",
    "  For example if the user enters the string 'examination 2021' then new string would be 'xamination 2021e'"
   ]
  },
  {
   "cell_type": "code",
   "execution_count": 8,
   "id": "6b98271c-6fec-4e1c-926d-d1c110479722",
   "metadata": {},
   "outputs": [
    {
     "name": "stdin",
     "output_type": "stream",
     "text": [
      "Enter a string:  examination 2021\n"
     ]
    },
    {
     "name": "stdout",
     "output_type": "stream",
     "text": [
      "String after left shift: xamination 2021e\n"
     ]
    }
   ],
   "source": [
    "s = input(\"Enter a string: \")\n",
    "\n",
    "if len(s) > 1:\n",
    "    new_string = s[1:] + s[0]   \n",
    "else:\n",
    "    new_string = s             \n",
    "\n",
    "print(\"String after left shift:\", new_string)\n"
   ]
  },
  {
   "cell_type": "markdown",
   "id": "04592ce8-8625-49ae-ab9b-a0e49a6488b0",
   "metadata": {},
   "source": [
    "6. Write a program that asks the user to input his name and print its initials. Assuming that the user always types first name, middle name and last name and doesnot include any unnecessary spaces.\n",
    "For Example: if the user enters Ajay Kumar Garg the program should display A. K. G.\n",
    "Note: Don't use split() method"
   ]
  },
  {
   "cell_type": "code",
   "execution_count": 12,
   "id": "c34b18cb-16b6-432b-8dc4-becc5278804f",
   "metadata": {},
   "outputs": [
    {
     "name": "stdin",
     "output_type": "stream",
     "text": [
      "Enter your full name (First Middle Last):  pardeep kumar malhi\n"
     ]
    },
    {
     "name": "stdout",
     "output_type": "stream",
     "text": [
      "Initials: P. K. M. "
     ]
    }
   ],
   "source": [
    "name = input(\"Enter your full name (First Middle Last): \")\n",
    "\n",
    "print(\"Initials:\", end=\" \")\n",
    "\n",
    "print(name[0].upper() + \".\", end=\" \")\n",
    "\n",
    "for i in range(len(name)):\n",
    "    if name[i] == \" \":                 \n",
    "        print(name[i+1].upper() + \".\", end=\" \")\n"
   ]
  },
  {
   "cell_type": "markdown",
   "id": "b3df72e0-cfd9-437c-a204-9a95e5c7b87c",
   "metadata": {},
   "source": [
    "7. A palindrome is a string that reads the same backward as forward. For example, the words dad, madam and radar are all palindromes. Write a programs that determines whether the string is a palindrome.\n",
    "Note: Do not use reverse() method"
   ]
  },
  {
   "cell_type": "code",
   "execution_count": 15,
   "id": "31456df5-24bb-4251-9d7a-d441b2334172",
   "metadata": {},
   "outputs": [
    {
     "name": "stdin",
     "output_type": "stream",
     "text": [
      "Enter a string:  madam\n"
     ]
    },
    {
     "name": "stdout",
     "output_type": "stream",
     "text": [
      "It is a palindrome.\n"
     ]
    }
   ],
   "source": [
    "s = input(\"Enter a string: \")\n",
    "\n",
    "is_palindrome = True\n",
    "\n",
    "for i in range(len(s) // 2):\n",
    "    if s[i] != s[-(i + 1)]:\n",
    "        is_palindrome = False\n",
    "        break\n",
    "\n",
    "if is_palindrome:\n",
    "    print(\"It is a palindrome.\")\n",
    "else:\n",
    "    print(\"It is not a palindrome.\")\n"
   ]
  },
  {
   "cell_type": "markdown",
   "id": "9c77fd70-d417-4f88-bec2-9a92c1e82202",
   "metadata": {},
   "source": [
    "8. Write a program that display following output:\n",
    "   SHIFT\n",
    "   HIFTS\n",
    "   IFTSH\n",
    "   FTSHI\n",
    "   TSHIF\n",
    "   SHIFT"
   ]
  },
  {
   "cell_type": "code",
   "execution_count": 16,
   "id": "6ae385c7-a34f-4767-a7a7-c12f0840dfc7",
   "metadata": {},
   "outputs": [
    {
     "name": "stdout",
     "output_type": "stream",
     "text": [
      "SHIFT\n",
      "HIFTS\n",
      "IFTSH\n",
      "FTSHI\n",
      "TSHIF\n",
      "SHIFT\n"
     ]
    }
   ],
   "source": [
    "word = \"SHIFT\"\n",
    "\n",
    "for i in range(len(word) + 1):   \n",
    "    rotated = word[i:] + word[:i]   \n",
    "    print(rotated)\n"
   ]
  },
  {
   "cell_type": "markdown",
   "id": "be0db188-e3a0-4b5c-9f28-9bb60d4aa42b",
   "metadata": {},
   "source": [
    "\n",
    "9. Write a program in python that accepts a string to setup a passwords. Your entered password must meet the following requirements:"
   ]
  },
  {
   "cell_type": "code",
   "execution_count": 17,
   "id": "8a7e9d44-5dca-4122-96e2-5fd46129d115",
   "metadata": {},
   "outputs": [
    {
     "name": "stdin",
     "output_type": "stream",
     "text": [
      "Set your password:  Pardeep@2005#\n"
     ]
    },
    {
     "name": "stdout",
     "output_type": "stream",
     "text": [
      "Password is strong \n"
     ]
    }
   ],
   "source": [
    "password = input(\"Set your password: \")\n",
    "\n",
    "has_upper = False\n",
    "has_lower = False\n",
    "has_digit = False\n",
    "has_special = False\n",
    "\n",
    "for ch in password:\n",
    "    if ch.isupper():\n",
    "        has_upper = True\n",
    "    elif ch.islower():\n",
    "        has_lower = True\n",
    "    elif ch.isdigit():\n",
    "        has_digit = True\n",
    "    elif ch in \"@#$%!&*\":\n",
    "        has_special = True\n",
    "\n",
    "if len(password) >= 8 and has_upper and has_lower and has_digit and has_special:\n",
    "    print(\"Password is strong \")\n",
    "else:\n",
    "    print(\"Password is weak \")\n",
    "    print(\"Requirements:\")\n",
    "    print(\"- At least 8 characters\")\n",
    "    print(\"- At least 1 uppercase letter\")\n",
    "    print(\"- At least 1 lowercase letter\")\n",
    "    print(\"- At least 1 digit\")\n",
    "    print(\"- At least 1 special symbol (@, #, $, %, !, &)\")\n"
   ]
  },
  {
   "cell_type": "markdown",
   "id": "da9849c7-37e5-4e1f-979d-c6ae1e9495ec",
   "metadata": {},
   "source": []
  }
 ],
 "metadata": {
  "kernelspec": {
   "display_name": "Python 3 (ipykernel)",
   "language": "python",
   "name": "python3"
  },
  "language_info": {
   "codemirror_mode": {
    "name": "ipython",
    "version": 3
   },
   "file_extension": ".py",
   "mimetype": "text/x-python",
   "name": "python",
   "nbconvert_exporter": "python",
   "pygments_lexer": "ipython3",
   "version": "3.13.5"
  }
 },
 "nbformat": 4,
 "nbformat_minor": 5
}
