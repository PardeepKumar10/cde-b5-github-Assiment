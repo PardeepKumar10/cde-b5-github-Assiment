{
 "cells": [
  {
   "cell_type": "markdown",
   "id": "e0e3d54d-edac-4bdf-8a5c-f0c3f1269c0a",
   "metadata": {},
   "source": [
    "1.Print Your Name with your Father name and Date of birth using suitable escape sequence charactor"
   ]
  },
  {
   "cell_type": "code",
   "execution_count": 5,
   "id": "cdc4c2bf-76dc-4f8e-81ad-34e9a6264b36",
   "metadata": {},
   "outputs": [
    {
     "name": "stdout",
     "output_type": "stream",
     "text": [
      "Personal Info\n",
      "--------------------\n",
      "Name\t\t: \"Pardeep Kumar\"\n",
      "Father's Name\t: \"Tanu Mal\"\n",
      "Date of Birth\t: 12-10-2005\n"
     ]
    }
   ],
   "source": [
    "print(\"Personal Info\")\n",
    "print(\"--------------------\")\n",
    "print(\"Name\\t\\t: \\\"Pardeep Kumar\\\"\")\n",
    "print(\"Father's Name\\t: \\\"Tanu Mal\\\"\")\n",
    "print(\"Date of Birth\\t: 12-10-2005\")\n"
   ]
  },
  {
   "cell_type": "markdown",
   "id": "10c503ed-033e-40ac-875b-2ba44f83efa7",
   "metadata": {},
   "source": [
    "2. Write your small bio using variables and print it using print function"
   ]
  },
  {
   "cell_type": "code",
   "execution_count": 10,
   "id": "1661d177-0f7b-4e2f-b730-b815b734a414",
   "metadata": {},
   "outputs": [
    {
     "name": "stdout",
     "output_type": "stream",
     "text": [
      "----- My Bio -----\n",
      "Name        : Pardeep Kumar\n",
      "Father Name : Tanu Mal\n",
      "Date of Birth: 12-10-2005\n",
      "Hobby       : Reading Books\n",
      "Goal        : Become a Computer Scientist\n"
     ]
    }
   ],
   "source": [
    "# Defining variables\n",
    "name = \"Pardeep Kumar\"\n",
    "father_name = \"Tanu Mal\"\n",
    "dob = \"12-10-2005\"\n",
    "hobby = \"Reading Books\"\n",
    "goal = \"Become a Computer Scientist\"\n",
    "\n",
    "# Printing bio\n",
    "print(\"----- My Bio -----\")\n",
    "print(\"Name        :\", name)\n",
    "print(\"Father Name :\", father_name)\n",
    "print(\"Date of Birth:\", dob)\n",
    "print(\"Hobby       :\", hobby)\n",
    "print(\"Goal        :\", goal)\n"
   ]
  },
  {
   "cell_type": "markdown",
   "id": "786e782f-1022-4fd5-a345-9304eacfcf2e",
   "metadata": {},
   "source": [
    "3. Write a program in which use all the operators we can use in Python"
   ]
  },
  {
   "cell_type": "code",
   "execution_count": 11,
   "id": "2aa0fd3b-3610-4a20-9a57-657f8cbb3bbe",
   "metadata": {},
   "outputs": [
    {
     "name": "stdout",
     "output_type": "stream",
     "text": [
      " Arithmetic Operators \n",
      "a + b = 19\n",
      "a - b = 11\n",
      "a * b = 60\n",
      "a / b = 3.75\n",
      "a // b = 3\n",
      "a % b = 3\n",
      "a ** b = 50625\n",
      "\n",
      " Assignment Operators \n",
      "c = a: 15\n",
      "c += b: 19\n",
      "c -= b: 15\n",
      "c *= b: 60\n",
      "c /= b: 15.0\n",
      "c //= b: 3.0\n",
      "c %= b: 3.0\n",
      "c **= b: 81.0\n",
      "\n",
      " Comparison Operators \n",
      "a == b: False\n",
      "a != b: True\n",
      "a > b : True\n",
      "a < b : False\n",
      "a >= b: True\n",
      "a <= b: False\n",
      "\n",
      " Logical Operators \n",
      "p and q: False\n",
      "p or q : True\n",
      "not p  : False\n",
      "\n",
      " Bitwise Operators \n",
      "a & b: 4\n",
      "a | b: 15\n",
      "a ^ b: 11\n",
      "~a   : -16\n",
      "a << 2: 60\n",
      "a >> 2: 3\n"
     ]
    }
   ],
   "source": [
    "# Variables\n",
    "a = 15\n",
    "b = 4\n",
    "x = [1, 2, 3]\n",
    "y = [1, 2, 3]\n",
    "z = x\n",
    "\n",
    "print(\" Arithmetic Operators \")\n",
    "print(\"a + b =\", a + b)    \n",
    "print(\"a - b =\", a - b)    \n",
    "print(\"a * b =\", a * b)    \n",
    "print(\"a / b =\", a / b)    \n",
    "print(\"a // b =\", a // b)  \n",
    "print(\"a % b =\", a % b)    \n",
    "print(\"a ** b =\", a ** b)  \n",
    "\n",
    "print(\"\\n Assignment Operators \")\n",
    "c = a\n",
    "print(\"c = a:\", c)\n",
    "c += b; print(\"c += b:\", c)\n",
    "c -= b; print(\"c -= b:\", c)\n",
    "c *= b; print(\"c *= b:\", c)\n",
    "c /= b; print(\"c /= b:\", c)\n",
    "c //= b; print(\"c //= b:\", c)\n",
    "c %= b; print(\"c %= b:\", c)\n",
    "c **= b; print(\"c **= b:\", c)\n",
    "\n",
    "print(\"\\n Comparison Operators \")\n",
    "print(\"a == b:\", a == b)\n",
    "print(\"a != b:\", a != b)\n",
    "print(\"a > b :\", a > b)\n",
    "print(\"a < b :\", a < b)\n",
    "print(\"a >= b:\", a >= b)\n",
    "print(\"a <= b:\", a <= b)\n",
    "\n",
    "print(\"\\n Logical Operators \")\n",
    "p = True\n",
    "q = False\n",
    "print(\"p and q:\", p and q)\n",
    "print(\"p or q :\", p or q)\n",
    "print(\"not p  :\", not p)\n",
    "\n",
    "print(\"\\n Bitwise Operators \")\n",
    "print(\"a & b:\", a & b)   # AND\n",
    "print(\"a | b:\", a | b)   # OR\n",
    "print(\"a ^ b:\", a ^ b)   # XOR\n",
    "print(\"~a   :\", ~a)      # NOT\n",
    "print(\"a << 2:\", a << 2) # Left Shift\n",
    "print(\"a >> 2:\", a >> 2) # Right Shift\n"
   ]
  },
  {
   "cell_type": "markdown",
   "id": "c95ecd77-8980-400c-a29f-0e9604dd3428",
   "metadata": {},
   "source": [
    "4. Completes the following steps of small task:\n",
    "   Mention Marks of English , Islamiat and Maths out of 100 in 3 different variables\n",
    "   Mention Variable of Total Marks and assign 300 to it\n",
    "Calculate Percentage"
   ]
  },
  {
   "cell_type": "code",
   "execution_count": 12,
   "id": "e109277c-01b7-4ae6-bd27-c1a177ade94f",
   "metadata": {},
   "outputs": [
    {
     "name": "stdout",
     "output_type": "stream",
     "text": [
      "English Marks : 85\n",
      "Islamiat Marks: 90\n",
      "Maths Marks   : 80\n",
      "Obtained Marks: 255 / 300\n",
      "Percentage    : 85.0 %\n"
     ]
    }
   ],
   "source": [
    "# Step 1: Marks in 3 subjects\n",
    "english = 85\n",
    "islamiat = 90\n",
    "maths = 80\n",
    "\n",
    "# Step 2: Total Marks\n",
    "total_marks = 300\n",
    "\n",
    "# Step 3: Calculate obtained marks\n",
    "obtained = english + islamiat + maths\n",
    "\n",
    "# Step 4: Calculate percentage\n",
    "percentage = (obtained / total_marks) * 100\n",
    "\n",
    "# Output\n",
    "print(\"English Marks :\", english)\n",
    "print(\"Islamiat Marks:\", islamiat)\n",
    "print(\"Maths Marks   :\", maths)\n",
    "print(\"Obtained Marks:\", obtained, \"/\", total_marks)\n",
    "print(\"Percentage    :\", percentage, \"%\")\n"
   ]
  },
  {
   "cell_type": "markdown",
   "id": "0649ee07-72aa-446d-b6f4-53a2cb74a803",
   "metadata": {},
   "source": [
    "# (Conditional Statements)"
   ]
  },
  {
   "cell_type": "markdown",
   "id": "bca1ff1f-aba9-4e2d-b5d9-7ad84fb1c768",
   "metadata": {},
   "source": [
    "1. A company decided to give bonus of 5% to employee if his/her year of service is more than 5 years. Ask user for their salary and year of service and print the net bonus amount. "
   ]
  },
  {
   "cell_type": "code",
   "execution_count": 13,
   "id": "acbed571-5dd5-4a91-913f-97e1cd95e712",
   "metadata": {},
   "outputs": [
    {
     "name": "stdin",
     "output_type": "stream",
     "text": [
      "Enter your salary:  50000\n",
      "Enter your years of service:  20\n"
     ]
    },
    {
     "name": "stdout",
     "output_type": "stream",
     "text": [
      "Congratulations! You are eligible for a bonus.\n",
      "Your Net Bonus Amount is: 2500.0\n"
     ]
    }
   ],
   "source": [
    "# Input from user\n",
    "salary = float(input(\"Enter your salary: \"))\n",
    "years_of_service = int(input(\"Enter your years of service: \"))\n",
    "\n",
    "#  bonus\n",
    "if years_of_service > 5:\n",
    "    bonus = salary * 0.05\n",
    "    print(\"Congratulations! You are eligible for a bonus.\")\n",
    "    print(\"Your Net Bonus Amount is:\", bonus)\n",
    "else:\n",
    "    bonus = 0\n",
    "    print(\"Sorry, no bonus. Years of service are less than or equal to 5.\")\n",
    "    print(\"Your Net Bonus Amount is:\", bonus)\n"
   ]
  },
  {
   "cell_type": "markdown",
   "id": "feb9d80a-9c87-4fd0-a2f3-6374ca15869d",
   "metadata": {},
   "source": [
    "2. Write a program to check whether a person is eligible for voting or not. (accept age from user) if age is greater than 17 eligible otherwise not eligible\n"
   ]
  },
  {
   "cell_type": "code",
   "execution_count": 14,
   "id": "5e6b5940-e61b-4b9b-a297-60676ec6b80e",
   "metadata": {},
   "outputs": [
    {
     "name": "stdin",
     "output_type": "stream",
     "text": [
      "Enter your age:  18\n"
     ]
    },
    {
     "name": "stdout",
     "output_type": "stream",
     "text": [
      "You are eligible for voting.\n"
     ]
    }
   ],
   "source": [
    "age = int(input(\"Enter your age: \"))\n",
    "\n",
    "if age > 17:\n",
    "    print(\"You are eligible for voting.\")\n",
    "else:\n",
    "    print(\"You are NOT eligible for voting.\")\n"
   ]
  },
  {
   "cell_type": "markdown",
   "id": "9f0e1403-aa79-4e34-9917-ca9918c2954b",
   "metadata": {},
   "source": [
    "3. Write a program to check whether a number entered by user is even or odd"
   ]
  },
  {
   "cell_type": "code",
   "execution_count": 15,
   "id": "adf63590-198a-4b17-96c9-59d6e40e66cd",
   "metadata": {},
   "outputs": [
    {
     "name": "stdin",
     "output_type": "stream",
     "text": [
      "Enter a number:  333\n"
     ]
    },
    {
     "name": "stdout",
     "output_type": "stream",
     "text": [
      "333 is an Odd number.\n"
     ]
    }
   ],
   "source": [
    "# Input number from user\n",
    "num = int(input(\"Enter a number: \"))\n",
    "\n",
    "# Check even or odd\n",
    "if num % 2 == 0:\n",
    "    print(num, \"is an Even number.\")\n",
    "else:\n",
    "    print(num, \"is an Odd number.\")\n"
   ]
  },
  {
   "cell_type": "markdown",
   "id": "90dcc5cd-a98a-4400-a4d6-991e9ec7ddaa",
   "metadata": {},
   "source": [
    "4. Write a program to check whether a number is divisible by 7 or not. Show Answer"
   ]
  },
  {
   "cell_type": "code",
   "execution_count": 16,
   "id": "0704c1e4-2e8c-4568-a9a2-da9cbdb85a1b",
   "metadata": {},
   "outputs": [
    {
     "name": "stdin",
     "output_type": "stream",
     "text": [
      "Enter a number:  49\n"
     ]
    },
    {
     "name": "stdout",
     "output_type": "stream",
     "text": [
      "49 is divisible by 7.\n"
     ]
    }
   ],
   "source": [
    "# Input number from user\n",
    "num = int(input(\"Enter a number: \"))\n",
    "\n",
    "# Check divisibility by 7\n",
    "if num % 7 == 0:\n",
    "    print(num, \"is divisible by 7.\")\n",
    "else:\n",
    "    print(num, \"is NOT divisible by 7.\")\n"
   ]
  },
  {
   "cell_type": "markdown",
   "id": "0c228d2f-ebb8-405d-a9ce-79becdaa66a9",
   "metadata": {},
   "source": [
    "5. Write a program to display \"Hello\" if a number entered by user is a multiple of five , otherwise print \"Bye\"."
   ]
  },
  {
   "cell_type": "code",
   "execution_count": 17,
   "id": "9b0a58fb-7821-441f-93de-5f7c7f2b4bc1",
   "metadata": {},
   "outputs": [
    {
     "name": "stdin",
     "output_type": "stream",
     "text": [
      "Enter a number:  4\n"
     ]
    },
    {
     "name": "stdout",
     "output_type": "stream",
     "text": [
      "Bye\n"
     ]
    }
   ],
   "source": [
    "# Input number from user\n",
    "num = int(input(\"Enter a number: \"))\n",
    "\n",
    "# Check multiple of 5\n",
    "if num % 5 == 0:\n",
    "    print(\"Hello\")\n",
    "else:\n",
    "    print(\"Bye\")\n"
   ]
  },
  {
   "cell_type": "markdown",
   "id": "3fad9413-1f2e-4fe3-b941-8cb4732b4619",
   "metadata": {},
   "source": [
    "6. Write a program to display the last digit of a number."
   ]
  },
  {
   "cell_type": "code",
   "execution_count": 19,
   "id": "2bc6b1c6-7c71-483e-b77d-77cb090a9262",
   "metadata": {},
   "outputs": [
    {
     "name": "stdin",
     "output_type": "stream",
     "text": [
      "Enter a number:  232323\n"
     ]
    },
    {
     "name": "stdout",
     "output_type": "stream",
     "text": [
      "The last digit of 232323 is: 3\n"
     ]
    }
   ],
   "source": [
    "num = int(input(\"Enter a number: \"))\n",
    "\n",
    "last_digit = num % 10\n",
    "\n",
    "print(\"The last digit of\", num, \"is:\", last_digit)\n"
   ]
  },
  {
   "cell_type": "markdown",
   "id": "03162178-7cc7-4034-ac3a-e2700d4272bb",
   "metadata": {},
   "source": [
    "7. Take values of length and breadth of a rectangle from user and print if it is square or rectangle."
   ]
  },
  {
   "cell_type": "code",
   "execution_count": 47,
   "id": "df122b82-374b-49b3-a251-1b88b64062cb",
   "metadata": {},
   "outputs": [
    {
     "name": "stdin",
     "output_type": "stream",
     "text": [
      "Enter length:  90\n",
      "Enter breadth:  360\n"
     ]
    },
    {
     "name": "stdout",
     "output_type": "stream",
     "text": [
      "It is a Rectangle.\n"
     ]
    }
   ],
   "source": [
    "length = int(input(\"Enter length: \"))\n",
    "breadth = int(input(\"Enter breadth: \"))\n",
    "\n",
    "if length == breadth:\n",
    "    print(\"It is a Square.\")\n",
    "else:\n",
    "    print(\"It is a Rectangle.\")\n"
   ]
  },
  {
   "cell_type": "markdown",
   "id": "ffefc1e3-7629-4fe9-9c61-c6d3cb03321f",
   "metadata": {},
   "source": [
    "8. Take two int values from user and print greatest among them."
   ]
  },
  {
   "cell_type": "code",
   "execution_count": 25,
   "id": "6c4e2b32-28fb-4bc9-891a-e7cea40e0439",
   "metadata": {},
   "outputs": [
    {
     "name": "stdin",
     "output_type": "stream",
     "text": [
      "Enter first number:  23\n",
      "Enter second number:  22\n"
     ]
    },
    {
     "name": "stdout",
     "output_type": "stream",
     "text": [
      "23 is greater.\n"
     ]
    }
   ],
   "source": [
    "a = int(input(\"Enter first number: \"))\n",
    "b = int(input(\"Enter second number: \"))\n",
    "\n",
    "if a > b:\n",
    "    print(a, \"is greater.\")\n",
    "elif b > a:\n",
    "    print(b, \"is greater.\")\n",
    "else:\n",
    "    print(\"Both numbers are equal.\")\n"
   ]
  },
  {
   "cell_type": "markdown",
   "id": "f899b4cb-ea65-4b1d-bf14-a68d0b131351",
   "metadata": {},
   "source": [
    "9. A shop will give discount of 10% if the cost of purchased quantity is more than 1000. Ask user for quantity Suppose, one unit will cost 100. Judge and print total cost for user."
   ]
  },
  {
   "cell_type": "code",
   "execution_count": 28,
   "id": "ecf10b4d-2f3e-4f5c-83dd-5753538af23b",
   "metadata": {},
   "outputs": [
    {
     "name": "stdin",
     "output_type": "stream",
     "text": [
      "Enter quantity:  100\n"
     ]
    },
    {
     "name": "stdout",
     "output_type": "stream",
     "text": [
      "Total cost before discount: 10000\n",
      "Final cost to pay: 9000.0\n"
     ]
    }
   ],
   "source": [
    "quantity = int(input(\"Enter quantity: \"))\n",
    "\n",
    "unit_price = 100\n",
    "total_cost = quantity * unit_price\n",
    "\n",
    "if total_cost > 1000:\n",
    "    discount = total_cost * 0.10\n",
    "    net_cost = total_cost - discount\n",
    "else:\n",
    "    net_cost = total_cost\n",
    "\n",
    "print(\"Total cost before discount:\", total_cost)\n",
    "print(\"Final cost to pay:\", net_cost)\n"
   ]
  },
  {
   "cell_type": "markdown",
   "id": "6cbe2b36-9a3c-41b3-af1c-2aa00d5ea64a",
   "metadata": {},
   "source": [
    "10. A school has following rules for grading system:\n",
    "a. Below 25 - F\n",
    "\n",
    "b. 25 to 45 - E\n",
    "\n",
    "c. 45 to 50 - D\n",
    "\n",
    "d. 50 to 60 - C\n",
    "\n",
    "e. 60 to 80 - B\n",
    "\n",
    "f. Above 80 - A\n",
    "\n",
    "Ask user to enter marks and print the corresponding grade."
   ]
  },
  {
   "cell_type": "code",
   "execution_count": 30,
   "id": "30f9e94d-a70e-4d97-bed0-01c36f07d891",
   "metadata": {},
   "outputs": [
    {
     "name": "stdin",
     "output_type": "stream",
     "text": [
      "Enter your marks:  89\n"
     ]
    },
    {
     "name": "stdout",
     "output_type": "stream",
     "text": [
      "Marks: 89 Grade: A\n"
     ]
    }
   ],
   "source": [
    "marks = int(input(\"Enter your marks: \"))\n",
    "\n",
    "if marks < 25:\n",
    "    grade = \"F\"\n",
    "elif marks < 45:\n",
    "    grade = \"E\"\n",
    "elif marks < 50:\n",
    "    grade = \"D\"\n",
    "elif marks < 60:\n",
    "    grade = \"C\"\n",
    "elif marks < 80:\n",
    "    grade = \"B\"\n",
    "else:\n",
    "    grade = \"A\"\n",
    "\n",
    "print(\"Marks:\", marks, \"Grade:\", grade)"
   ]
  },
  {
   "cell_type": "markdown",
   "id": "4775899f-df0f-4905-a904-51fa2c0ea7ea",
   "metadata": {},
   "source": [
    "11. A student will not be allowed to sit in exam if his/her attendence is less than 75%.\n",
    "\n",
    "Take following input from user\n",
    "\n",
    "Number of classes held\n",
    "\n",
    "Number of classes attended.\n",
    "\n",
    "And print\n",
    "\n",
    "percentage of class attended\n",
    "\n",
    "Is student is allowed to sit in exam or not."
   ]
  },
  {
   "cell_type": "code",
   "execution_count": 31,
   "id": "584788c0-971e-49aa-9aee-27716789c176",
   "metadata": {},
   "outputs": [
    {
     "name": "stdin",
     "output_type": "stream",
     "text": [
      "Enter number of classes held:  75\n",
      "Enter number of classes attended:  50\n"
     ]
    },
    {
     "name": "stdout",
     "output_type": "stream",
     "text": [
      "Attendance Percentage: 66.66666666666666 %\n",
      "Not allowed to sit in exam.\n"
     ]
    }
   ],
   "source": [
    "classes_held = int(input(\"Enter number of classes held: \"))\n",
    "classes_attended = int(input(\"Enter number of classes attended: \"))\n",
    "\n",
    "attendance = (classes_attended / classes_held) * 100\n",
    "\n",
    "print(\"Attendance Percentage:\", attendance, \"%\")\n",
    "\n",
    "if attendance >= 75:\n",
    "    print(\"Allowed to sit in exam.\")\n",
    "else:\n",
    "    print(\"Not allowed to sit in exam.\")\n"
   ]
  },
  {
   "cell_type": "markdown",
   "id": "8b659c97-add6-4da3-b995-92fc9a175bbb",
   "metadata": {},
   "source": [
    "12. Modify the above question to allow student to sit if he/she has medical cause. Ask user if he/she has medical cause or not ( 'Y' or 'N' ) and print accordingly."
   ]
  },
  {
   "cell_type": "code",
   "execution_count": 33,
   "id": "32d0a563-9303-4a0c-94fc-47d07596cd06",
   "metadata": {},
   "outputs": [
    {
     "name": "stdin",
     "output_type": "stream",
     "text": [
      "Enter number of classes held:  100\n",
      "Enter number of classes attended:  70\n"
     ]
    },
    {
     "name": "stdout",
     "output_type": "stream",
     "text": [
      "Attendance Percentage: 70.0 %\n"
     ]
    },
    {
     "name": "stdin",
     "output_type": "stream",
     "text": [
      "Do you have a medical cause? (Y/N):  y\n"
     ]
    },
    {
     "name": "stdout",
     "output_type": "stream",
     "text": [
      "Allowed to sit in exam due to medical cause.\n"
     ]
    }
   ],
   "source": [
    "classes_held = int(input(\"Enter number of classes held: \"))\n",
    "classes_attended = int(input(\"Enter number of classes attended: \"))\n",
    "\n",
    "attendance = (classes_attended / classes_held) * 100\n",
    "print(\"Attendance Percentage:\", attendance, \"%\")\n",
    "\n",
    "medical = input(\"Do you have a medical cause? (Y/N): \")\n",
    "\n",
    "if attendance >= 75:\n",
    "    print(\"Allowed to sit in exam.\")\n",
    "elif medical.upper() == 'Y':\n",
    "    print(\"Allowed to sit in exam due to medical cause.\")\n",
    "else:\n",
    "    print(\"Not allowed to sit in exam.\")\n"
   ]
  },
  {
   "cell_type": "markdown",
   "id": "33064ab7-df4f-4d3f-9b77-c948f57a4d43",
   "metadata": {},
   "source": [
    "13. Write a program to check if a year is leap year or not.\n",
    "If a year is divisible by 4 then it is leap year but if the year is century year like 2000, 1900, 2100 then it must be divisible by 400."
   ]
  },
  {
   "cell_type": "code",
   "execution_count": 36,
   "id": "70a4e380-b60c-439a-b11b-6e011edf7268",
   "metadata": {},
   "outputs": [
    {
     "name": "stdin",
     "output_type": "stream",
     "text": [
      "Enter a year:  2020\n"
     ]
    },
    {
     "name": "stdout",
     "output_type": "stream",
     "text": [
      "2020 is a Leap Year\n"
     ]
    }
   ],
   "source": [
    "year = int(input(\"Enter a year: \"))\n",
    "\n",
    "if (year % 400 == 0):\n",
    "    print(year, \"is a Leap Year\")\n",
    "elif (year % 100 == 0):\n",
    "    print(year, \"is NOT a Leap Year\")\n",
    "elif (year % 4 == 0):\n",
    "    print(year, \"is a Leap Year\")\n",
    "else:\n",
    "    print(year, \"is NOT a Leap Year\")\n"
   ]
  },
  {
   "cell_type": "markdown",
   "id": "b33d2b0d-aac0-44ee-81a5-8ab16651af6a",
   "metadata": {},
   "source": [
    "14. Ask user to enter age, gender ( M or F ), marital status ( Y or N ) and then using following rules print their place of service.\n",
    "if employee is female, then she will work only in urban areas.\n",
    "\n",
    "if employee is a male and age is in between 20 to 40 then he may work in anywhere\n",
    "\n",
    "if employee is male and age is in between 40 t0 60 then he will work in urban areas only.\n",
    "\n",
    "And any other input of age should print \"ERROR\""
   ]
  },
  {
   "cell_type": "code",
   "execution_count": 37,
   "id": "8c2ad8d1-0b57-4944-9aa7-d3aec667db10",
   "metadata": {},
   "outputs": [
    {
     "name": "stdin",
     "output_type": "stream",
     "text": [
      "Enter age:  20\n",
      "Enter gender (M/F):  m\n",
      "Enter marital status (Y/N):  n\n"
     ]
    },
    {
     "name": "stdout",
     "output_type": "stream",
     "text": [
      "Employee can work anywhere.\n"
     ]
    }
   ],
   "source": [
    "age = int(input(\"Enter age: \"))\n",
    "gender = input(\"Enter gender (M/F): \").upper()\n",
    "marital_status = input(\"Enter marital status (Y/N): \").upper()  # not used in rules, but taken\n",
    "\n",
    "if gender == \"F\":\n",
    "    print(\"Employee will work only in urban areas.\")\n",
    "elif gender == \"M\":\n",
    "    if 20 <= age <= 40:\n",
    "        print(\"Employee can work anywhere.\")\n",
    "    elif 40 < age <= 60:\n",
    "        print(\"Employee will work only in urban areas.\")\n",
    "    else:\n",
    "        print(\"ERROR\")\n",
    "else:\n",
    "    print(\"ERROR\")\n"
   ]
  },
  {
   "cell_type": "markdown",
   "id": "2d44bfb5-0a6c-45e6-a430-347047d47399",
   "metadata": {},
   "source": [
    "15. Write a program to calculate the electricity bill (accept number of unit from user) according to the following criteria : Unit Price\n",
    "uptp 100 units no charge Next 200 units Rs 5 per unit After 200 units Rs 10 per unit (For example if input unit is 350 than total bill amount is Rs.3500 (For example if input unit is 97 than total bill amount is Rs.0 (For example if input unit is 150 than total bill amount is Rs.750"
   ]
  },
  {
   "cell_type": "code",
   "execution_count": 43,
   "id": "f612a67a-3c76-473b-96eb-db7779f2b912",
   "metadata": {},
   "outputs": [
    {
     "name": "stdin",
     "output_type": "stream",
     "text": [
      "Enter number of units consumed:  200\n"
     ]
    },
    {
     "name": "stdout",
     "output_type": "stream",
     "text": [
      "Total bill amount = Rs. 500\n"
     ]
    }
   ],
   "source": [
    "units = int(input(\"Enter number of units consumed: \"))\n",
    "\n",
    "bill = 0\n",
    "\n",
    "if units <= 100:\n",
    "    bill = 0\n",
    "elif units <= 300:\n",
    "    bill = (units - 100) * 5\n",
    "else:\n",
    "    bill = (200 * 5) + (units - 300) * 10\n",
    "\n",
    "print(\"Total bill amount = Rs.\", bill)\n"
   ]
  },
  {
   "cell_type": "markdown",
   "id": "3339f558-f332-4c3e-b04c-490ab0dd59e3",
   "metadata": {},
   "source": [
    "16. Take input of age of 3 people by user and determine oldest and youngest among them."
   ]
  },
  {
   "cell_type": "code",
   "execution_count": 44,
   "id": "fd192fbf-83bc-4cac-a2bd-703bc2846bde",
   "metadata": {},
   "outputs": [
    {
     "name": "stdin",
     "output_type": "stream",
     "text": [
      "Enter age of first person:  20\n",
      "Enter age of second person:  18\n",
      "Enter age of third person:  22\n"
     ]
    },
    {
     "name": "stdout",
     "output_type": "stream",
     "text": [
      "Oldest age is: 22\n",
      "Youngest age is: 18\n"
     ]
    }
   ],
   "source": [
    "age1 = int(input(\"Enter age of first person: \"))\n",
    "age2 = int(input(\"Enter age of second person: \"))\n",
    "age3 = int(input(\"Enter age of third person: \"))\n",
    "\n",
    "oldest = max(age1, age2, age3)\n",
    "\n",
    "youngest = min(age1, age2, age3)\n",
    "\n",
    "print(\"Oldest age is:\", oldest)\n",
    "print(\"Youngest age is:\", youngest)\n"
   ]
  },
  {
   "cell_type": "code",
   "execution_count": null,
   "id": "a7a5757f-a505-4879-af68-1f154eae284b",
   "metadata": {},
   "outputs": [],
   "source": []
  }
 ],
 "metadata": {
  "kernelspec": {
   "display_name": "Python 3 (ipykernel)",
   "language": "python",
   "name": "python3"
  },
  "language_info": {
   "codemirror_mode": {
    "name": "ipython",
    "version": 3
   },
   "file_extension": ".py",
   "mimetype": "text/x-python",
   "name": "python",
   "nbconvert_exporter": "python",
   "pygments_lexer": "ipython3",
   "version": "3.13.5"
  }
 },
 "nbformat": 4,
 "nbformat_minor": 5
}
